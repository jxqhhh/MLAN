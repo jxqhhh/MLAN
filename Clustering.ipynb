{
 "cells": [
  {
   "cell_type": "code",
   "execution_count": 2,
   "metadata": {},
   "outputs": [],
   "source": [
    "import numpy as np\n",
    "import numpy as np\n",
    "from numpy import linalg as la\n",
    "from sklearn import preprocessing as pre\n",
    "import random\n",
    "import math\n",
    "from numpy import ma"
   ]
  },
  {
   "cell_type": "code",
   "execution_count": 3,
   "metadata": {},
   "outputs": [
    {
     "data": {
      "text/plain": [
       "(1474, 254)"
      ]
     },
     "execution_count": 3,
     "metadata": {},
     "output_type": "execute_result"
    }
   ],
   "source": [
    "#X1(CENTRIST FEATURE):\n",
    "X11=np.load(\"F:\\lab\\code\\MLAN\\Caltech101(part)\\dollar_bill\\CENTRIST_feature.npy\")\n",
    "X12=np.load(\"F:\\lab\\code\\MLAN\\Caltech101(part)\\Faces\\CENTRIST_feature.npy\")\n",
    "X13=np.load(\"F:\\lab\\code\\MLAN\\Caltech101(part)\\garfield\\CENTRIST_feature.npy\")\n",
    "X14=np.load(\"F:\\lab\\code\\MLAN\\Caltech101(part)\\Motorbikes\\CENTRIST_feature.npy\")\n",
    "X15=np.load(\"F:\\lab\\code\\MLAN\\Caltech101(part)\\snoopy\\CENTRIST_feature.npy\")\n",
    "X16=np.load(\"F:\\lab\\code\\MLAN\\Caltech101(part)\\stop_sign\\CENTRIST_feature.npy\")\n",
    "X17=np.load(\"F:\\lab\\code\\MLAN\\Caltech101(part)\\windsor_chair\\CENTRIST_feature.npy\")\n",
    "X1=ma.row_stack((X11,X12,X13,X14,X15,X16,X17))\n",
    "X1.shape"
   ]
  },
  {
   "cell_type": "code",
   "execution_count": 4,
   "metadata": {},
   "outputs": [
    {
     "data": {
      "text/plain": [
       "(1474, 1984)"
      ]
     },
     "execution_count": 4,
     "metadata": {},
     "output_type": "execute_result"
    }
   ],
   "source": [
    "#X2(HOG FEATURE):\n",
    "X21=np.load(\"F:\\lab\\code\\MLAN\\Caltech101(part)\\dollar_bill\\\\HOG_feature.npy\")\n",
    "X22=np.load(\"F:\\lab\\code\\MLAN\\Caltech101(part)\\Faces\\\\HOG_feature.npy\")\n",
    "X23=np.load(\"F:\\lab\\code\\MLAN\\Caltech101(part)\\garfield\\\\HOG_feature.npy\")\n",
    "X24=np.load(\"F:\\lab\\code\\MLAN\\Caltech101(part)\\Motorbikes\\HOG_feature.npy\")\n",
    "X25=np.load(\"F:\\lab\\code\\MLAN\\Caltech101(part)\\snoopy\\HOG_feature.npy\")\n",
    "X26=np.load(\"F:\\lab\\code\\MLAN\\Caltech101(part)\\stop_sign\\HOG_feature.npy\")\n",
    "X27=np.load(\"F:\\lab\\code\\MLAN\\Caltech101(part)\\windsor_chair\\HOG_feature.npy\")\n",
    "X2=ma.row_stack((X21,X22,X23,X24,X25,X26,X27))\n",
    "X2.shape"
   ]
  },
  {
   "cell_type": "code",
   "execution_count": 5,
   "metadata": {},
   "outputs": [],
   "source": [
    "#X3(LBP FEATURE):\n",
    "X31=np.load(\"F:\\lab\\code\\MLAN\\Caltech101(part)\\dollar_bill\\\\LBP_feature.npy\")\n",
    "X32=np.load(\"F:\\lab\\code\\MLAN\\Caltech101(part)\\Faces\\\\LBP_feature.npy\")\n",
    "X33=np.load(\"F:\\lab\\code\\MLAN\\Caltech101(part)\\garfield\\\\LBP_feature.npy\")\n",
    "X34=np.load(\"F:\\lab\\code\\MLAN\\Caltech101(part)\\Motorbikes\\LBP_feature.npy\")\n",
    "X35=np.load(\"F:\\lab\\code\\MLAN\\Caltech101(part)\\snoopy\\LBP_feature.npy\")\n",
    "X36=np.load(\"F:\\lab\\code\\MLAN\\Caltech101(part)\\stop_sign\\LBP_feature.npy\")\n",
    "X37=np.load(\"F:\\lab\\code\\MLAN\\Caltech101(part)\\windsor_chair\\LBP_feature.npy\")\n",
    "X3=ma.row_stack((X31,X32,X33,X34,X35,X36,X37))"
   ]
  },
  {
   "cell_type": "code",
   "execution_count": null,
   "metadata": {},
   "outputs": [],
   "source": []
  },
  {
   "cell_type": "code",
   "execution_count": 6,
   "metadata": {},
   "outputs": [],
   "source": [
    "X=[X1,X2,X3]"
   ]
  },
  {
   "cell_type": "code",
   "execution_count": 7,
   "metadata": {},
   "outputs": [],
   "source": [
    "def cluster(X,c,num_of_adaptive_neighbours=9):\n",
    "    \n",
    "    '''\n",
    "    X=[X1,X2,...,Xv]  --type:list\n",
    "    '''\n",
    "\n",
    "    #Standardlize:\n",
    "    n,_=X[0].shape\n",
    "    v=len(X)#v:number of different views\n",
    "    for i in range(v):\n",
    "        X[i]=pre.scale(X[i],axis=1)#You need to import sklearn.preprocessing as pre before using the standardlization module.\n",
    "    print(\"Preprocession finished...\")\n",
    "    \n",
    "    #Initialize:\n",
    "    lambda_=random.randint(1,30)\n",
    "    W=np.ones((v),dtype=np.float32)/v#W records the weight of each view\n",
    "    alpha=np.zeros((n),dtype=np.float32)\n",
    "    S=np.zeros((n,n),dtype=np.float32)#S denotes the similarity matrix\n",
    "    Dist=np.zeros((n,n),dtype=np.float32)#Dist denotes the distance matrix\n",
    "    F=np.zeros((n,c),dtype=np.float32)#F denotes the indicator matrix\n",
    "    k_=num_of_adaptive_neighbours\n",
    "    for i in range(n):\n",
    "        for j in range(n):\n",
    "            for k in range(v):\n",
    "                Dist[i][j]+=W[k]*(la.norm(X[k][i,:]-X[k][j,:]))**2\n",
    "        ascending_order_index=np.argsort(Dist[i])[1:k_+1]\n",
    "        dist_of_neighbours_sorted_ascending=Dist[i][ascending_order_index]\n",
    "        alpha[i]=0.5*(k_*dist_of_neighbours_sorted_ascending[k_-1]-np.sum(dist_of_neighbours_sorted_ascending))\n",
    "        S[i][ascending_order_index]=(np.mean(dist_of_neighbours_sorted_ascending))/alpha[i]*0.5+1/k_\n",
    "        S[i][ascending_order_index]=S[i][ascending_order_index]-dist_of_neighbours_sorted_ascending/alpha[i]*0.5\n",
    "    mean_alpha=np.mean(alpha)\n",
    "    #？？？论文中出现的右下角的加号是max(0,x)的意思吗？\n",
    "    for i in range(n):\n",
    "        for j in range(n):\n",
    "            if S[i][j]<0:\n",
    "                S[i][j]=0\n",
    "                \n",
    "    result=0\n",
    "    for k in range(v):\n",
    "        a=0\n",
    "        for i in range(n):\n",
    "            for j in range(n):\n",
    "                a+=S[i][j]*(la.norm(X[k][i]-X[k][j]))**2\n",
    "        result+=a**0.5\n",
    "    result+=mean_alpha*(la.norm(S))**2\n",
    "    print('After initialization, the objective value is %f.'%result)\n",
    "    \n",
    "    #Update:\n",
    "    for iter_num in range(30):\n",
    "        #Update W_v:\n",
    "        for k in range(v):\n",
    "            tmp=0\n",
    "            for i in range(n):\n",
    "                for j in range(n):\n",
    "                    tmp+=S[i][j]*((la.norm(X[k][i]-X[k][j]))**2)\n",
    "            W[k]=0.5/(tmp**0.5)\n",
    "        #Update F:\n",
    "        diagonal_element=(np.sum(S,axis=1)+np.sum(S.T,axis=1))*0.5\n",
    "        D_s=np.zeros((n,n),dtype=np.float32)#D_s denotes the degree matrix\n",
    "        for i in range(n):\n",
    "            D_s[i][i]=diagonal_element[i]\n",
    "        L_s=D_s-(S+S.T)/2 #L_s denotes Laplacian matrix\n",
    "        eigenvalue,eigenvector=la.eig(L_s)\n",
    "        sorted_indices = np.argsort(eigenvalue)\n",
    "        F=eigenvector[:,sorted_indices[:c]]\n",
    "        #Update S:\n",
    "        S=np.zeros((n,n),dtype=np.float32)\n",
    "        for i in range(n):\n",
    "            for j in range(n):\n",
    "                Dist[i][j]=0\n",
    "                Dist[i][j]+=lambda_*la.norm(F[i,:]-F[j,:])**2 \n",
    "                for k in range(v):\n",
    "                    Dist[i][j]+=W[k]*(la.norm(X[k][i,:]-X[k][j,:]))**2\n",
    "            ascending_order_index=np.argsort(Dist[i])[1:k_+1]\n",
    "            dist_of_neighbours_sorted_ascending=Dist[i][ascending_order_index]\n",
    "            alpha[i]=0.5*(k_*dist_of_neighbours_sorted_ascending[k_-1]-np.sum(dist_of_neighbours_sorted_ascending))\n",
    "            S[i][ascending_order_index]=(np.mean(dist_of_neighbours_sorted_ascending))/alpha[i]*0.5+1/k_\n",
    "            S[i][ascending_order_index]=S[i][ascending_order_index]-dist_of_neighbours_sorted_ascending/alpha[i]*0.5\n",
    "        mean_alpha=np.mean(alpha)\n",
    "        for i in range(n):\n",
    "            for j in range(n):\n",
    "                if S[i][j]<0:\n",
    "                    S[i][j]=0\n",
    "        \n",
    "        #Compute the objective value:\n",
    "        result=0\n",
    "        for k in range(v):\n",
    "            a=0\n",
    "            for i in range(n):\n",
    "                for j in range(n):\n",
    "                    a+=S[i][j]*(la.norm(X[k][i]-X[k][j]))**2\n",
    "            result+=a**0.5\n",
    "        result+=mean_alpha*(la.norm(S))**2\n",
    "        print('After iteration %i,'%(iter_num+1),end='')\n",
    "        print(' the objective value is %f.'%result)\n",
    "        \n",
    "    return S\n",
    "                    "
   ]
  },
  {
   "cell_type": "code",
   "execution_count": 8,
   "metadata": {
    "scrolled": false
   },
   "outputs": [
    {
     "name": "stdout",
     "output_type": "stream",
     "text": [
      "Preprocession finished...\n",
      "After initialization, the objective value is 71162.152152.\n",
      "After iteration 1, the objective value is 3182.490094.\n",
      "After iteration 2, the objective value is 3183.188041.\n",
      "After iteration 3, the objective value is 3183.401892.\n",
      "After iteration 4, the objective value is 3183.463227.\n",
      "After iteration 5, the objective value is 3183.474802.\n",
      "After iteration 6, the objective value is 3183.462608.\n",
      "After iteration 7, the objective value is 3183.437907.\n",
      "After iteration 8, the objective value is 3183.439910.\n",
      "After iteration 9, the objective value is 3183.447174.\n",
      "After iteration 10, the objective value is 3183.459992.\n",
      "After iteration 11, the objective value is 3183.465535.\n",
      "After iteration 12, the objective value is 3183.463286.\n",
      "After iteration 13, the objective value is 3183.464235.\n",
      "After iteration 14, the objective value is 3183.464135.\n",
      "After iteration 15, the objective value is 3183.464759.\n",
      "After iteration 16, the objective value is 3183.464304.\n",
      "After iteration 17, the objective value is 3183.464475.\n",
      "After iteration 18, the objective value is 3183.467654.\n",
      "After iteration 19, the objective value is 3183.467623.\n",
      "After iteration 20, the objective value is 3183.465646.\n",
      "After iteration 21, the objective value is 3183.465062.\n",
      "After iteration 22, the objective value is 3183.467420.\n",
      "After iteration 23, the objective value is 3183.469234.\n",
      "After iteration 24, the objective value is 3183.470886.\n",
      "After iteration 25, the objective value is 3183.472221.\n",
      "After iteration 26, the objective value is 3183.472963.\n",
      "After iteration 27, the objective value is 3183.472702.\n",
      "After iteration 28, the objective value is 3183.472590.\n",
      "After iteration 29, the objective value is 3183.472591.\n",
      "After iteration 30, the objective value is 3183.472327.\n"
     ]
    }
   ],
   "source": [
    "S=cluster(X,3)"
   ]
  },
  {
   "cell_type": "code",
   "execution_count": 16,
   "metadata": {},
   "outputs": [
    {
     "data": {
      "text/plain": [
       "(1474, 1474)"
      ]
     },
     "execution_count": 16,
     "metadata": {},
     "output_type": "execute_result"
    }
   ],
   "source": [
    "S.shape"
   ]
  },
  {
   "cell_type": "code",
   "execution_count": null,
   "metadata": {},
   "outputs": [],
   "source": [
    "num=0\n",
    "for i in range(52):\n",
    "    for j in range(52):\n",
    "        if S[i][j]==0:\n",
    "            num+=1\n",
    "print(num)"
   ]
  }
 ],
 "metadata": {
  "kernelspec": {
   "display_name": "Python 3",
   "language": "python",
   "name": "python3"
  }
 },
 "nbformat": 4,
 "nbformat_minor": 2
}
