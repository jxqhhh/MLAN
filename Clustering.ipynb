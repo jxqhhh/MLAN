{
 "cells": [
  {
   "cell_type": "code",
   "execution_count": 62,
   "metadata": {},
   "outputs": [],
   "source": [
    "import numpy as np\n",
    "import numpy as np\n",
    "from numpy import linalg as la\n",
    "from sklearn import preprocessing as pre\n",
    "import random\n",
    "import math\n",
    "from numpy import ma"
   ]
  },
  {
   "cell_type": "code",
   "execution_count": 63,
   "metadata": {},
   "outputs": [
    {
     "data": {
      "text/plain": [
       "(521, 254)"
      ]
     },
     "execution_count": 63,
     "metadata": {},
     "output_type": "execute_result"
    }
   ],
   "source": [
    "#X1(CENTRIST FEATURE):\n",
    "X11=np.load(\"F:\\lab\\code\\MLAN\\Caltech101(part)\\dollar_bill\\CENTRIST_feature.npy\")\n",
    "X12=np.load(\"F:\\lab\\code\\MLAN\\Caltech101(part)\\Faces\\CENTRIST_feature.npy\")\n",
    "X13=np.load(\"F:\\lab\\code\\MLAN\\Caltech101(part)\\garfield\\CENTRIST_feature.npy\")\n",
    "#X14=np.load(\"F:\\lab\\code\\MLAN\\Caltech101(part)\\Motorbikes\\CENTRIST_feature.npy\")\n",
    "#X15=np.load(\"F:\\lab\\code\\MLAN\\Caltech101(part)\\snoopy\\CENTRIST_feature.npy\")\n",
    "#X16=np.load(\"F:\\lab\\code\\MLAN\\Caltech101(part)\\stop_sign\\CENTRIST_feature.npy\")\n",
    "#X17=np.load(\"F:\\lab\\code\\MLAN\\Caltech101(part)\\windsor_chair\\CENTRIST_feature.npy\")\n",
    "X1=ma.row_stack((X11,X12,X13))\n",
    "X1.shape"
   ]
  },
  {
   "cell_type": "code",
   "execution_count": 64,
   "metadata": {},
   "outputs": [
    {
     "data": {
      "text/plain": [
       "(521, 1984)"
      ]
     },
     "execution_count": 64,
     "metadata": {},
     "output_type": "execute_result"
    }
   ],
   "source": [
    "#X2(HOG FEATURE):\n",
    "X21=np.load(\"F:\\lab\\code\\MLAN\\Caltech101(part)\\dollar_bill\\\\HOG_feature.npy\")\n",
    "X22=np.load(\"F:\\lab\\code\\MLAN\\Caltech101(part)\\Faces\\\\HOG_feature.npy\")\n",
    "X23=np.load(\"F:\\lab\\code\\MLAN\\Caltech101(part)\\garfield\\\\HOG_feature.npy\")\n",
    "#X24=np.load(\"F:\\lab\\code\\MLAN\\Caltech101(part)\\Motorbikes\\HOG_feature.npy\")\n",
    "#X25=np.load(\"F:\\lab\\code\\MLAN\\Caltech101(part)\\snoopy\\HOG_feature.npy\")\n",
    "#X26=np.load(\"F:\\lab\\code\\MLAN\\Caltech101(part)\\stop_sign\\HOG_feature.npy\")\n",
    "#X27=np.load(\"F:\\lab\\code\\MLAN\\Caltech101(part)\\windsor_chair\\HOG_feature.npy\")\n",
    "X2=ma.row_stack((X21,X22,X23))\n",
    "X2.shape"
   ]
  },
  {
   "cell_type": "code",
   "execution_count": 83,
   "metadata": {},
   "outputs": [
    {
     "data": {
      "text/plain": [
       "(521, 928)"
      ]
     },
     "execution_count": 83,
     "metadata": {},
     "output_type": "execute_result"
    }
   ],
   "source": [
    "#X3(LBP FEATURE):\n",
    "X31=np.load(\"F:\\lab\\code\\MLAN\\Caltech101(part)\\dollar_bill\\\\LBP_feature.npy\")\n",
    "X32=np.load(\"F:\\lab\\code\\MLAN\\Caltech101(part)\\Faces\\\\LBP_feature.npy\")\n",
    "X33=np.load(\"F:\\lab\\code\\MLAN\\Caltech101(part)\\garfield\\\\LBP_feature.npy\")\n",
    "#X34=np.load(\"F:\\lab\\code\\MLAN\\Caltech101(part)\\Motorbikes\\LBP_feature.npy\")\n",
    "#X35=np.load(\"F:\\lab\\code\\MLAN\\Caltech101(part)\\snoopy\\LBP_feature.npy\")\n",
    "#X36=np.load(\"F:\\lab\\code\\MLAN\\Caltech101(part)\\stop_sign\\LBP_feature.npy\")\n",
    "#X37=np.load(\"F:\\lab\\code\\MLAN\\Caltech101(part)\\windsor_chair\\LBP_feature.npy\")\n",
    "X3=ma.row_stack((X31,X32,X33))\n",
    "X3.shape"
   ]
  },
  {
   "cell_type": "code",
   "execution_count": 77,
   "metadata": {},
   "outputs": [],
   "source": [
    "X=[X1,X2,X3]\n",
    "a=np.array([1,2],dtype=np.integer)\n",
    "while 1>0:\n",
    "    break"
   ]
  },
  {
   "cell_type": "code",
   "execution_count": 78,
   "metadata": {},
   "outputs": [],
   "source": [
    "def EProjSimplex_new(v):\n",
    "    k=1\n",
    "    ft=1\n",
    "    m=v.shape[0]\n",
    "    v0=v-np.mean(v)+1/m\n",
    "    vmin=v0.min()\n",
    "    x=np.zeros((m))\n",
    "    if vmin<0:\n",
    "        f=1\n",
    "        lambda_m=0\n",
    "        while abs(f)>10**(-10):\n",
    "            v1=v0-lambda_m\n",
    "            posidx= (v1>0)\n",
    "            npos=np.sum(posidx)\n",
    "            g=-npos\n",
    "            f=np.sum(v1[posidx])-k\n",
    "            lambda_m=lambda_m-f/(g+0.1-0.1)\n",
    "            ft+=1\n",
    "            if ft>100:\n",
    "                for i in range(m):\n",
    "                    if v1[i]>0:\n",
    "                        x[i]=v1[i]\n",
    "                break\n",
    "        for i in range(m):\n",
    "            if v1[i]>0:\n",
    "                x[i]=v1[i]\n",
    "    else:\n",
    "        x=v0\n",
    "        \n",
    "    return x\n",
    "            \n",
    "            "
   ]
  },
  {
   "cell_type": "code",
   "execution_count": 79,
   "metadata": {},
   "outputs": [],
   "source": [
    "def cluster(X,c,num_of_adaptive_neighbours=9):\n",
    "    \n",
    "    #Preprocess:\n",
    "    \n",
    "    n,_=X[0].shape\n",
    "    v=len(X)#v:number of different views\n",
    "    k_=num_of_adaptive_neighbours\n",
    "    lambda_=random.randint(1,30)\n",
    "    W=np.ones((v),dtype=np.float32)/v#W records the weight of each view\n",
    "    for i in range(v):\n",
    "        X[i]=pre.scale(X[i],axis=1)#You need to import sklearn.preprocessing as pre before using the standardlization module.\n",
    "    print(\"Preprocession finished...\")\n",
    "    \n",
    "    #-------------------------------------------------------\n",
    "    \n",
    "    \n",
    "    #Initialize:\n",
    "    \n",
    "    #initialize weighted_distX:\n",
    "    SUM=np.zeros((n,n),dtype=np.float32)\n",
    "    distX_initial=np.zeros((n,n),dtype=np.float32)\n",
    "    for k in range(v):\n",
    "        for i in range(n):\n",
    "            for j in range(n):\n",
    "                distX_initial[i][j]=la.norm(X[k][i]-X[k][j])**2\n",
    "        SUM=SUM+distX_initial\n",
    "    distX=1/v*SUM#distX denotes the distance matrix\n",
    "    \n",
    "    #initialize S:\n",
    "    S=np.zeros((n,n),dtype=np.float32)\n",
    "    rr=np.zeros((n,1),dtype=np.float32)\n",
    "    ascending_order_index=np.zeros((n,n),dtype=np.integer)\n",
    "    distXs=np.zeros((n,n),dtype=np.float32)\n",
    "    for i in range(n):\n",
    "        ascending_order_index[i]=np.argsort(distX[i])\n",
    "        distXs[i]=distX[i][ascending_order_index[i]]\n",
    "    for i in range(n):\n",
    "        di=distXs[i][1:k_+2]\n",
    "        rr[i]=0.5*(k_*di[k_]-np.sum(di[:k_]))\n",
    "        id=ascending_order_index[i][1:k_+2]\n",
    "        S[i][id]=(di[k_]-di)/(k_*di[k_]-np.sum(di[:k_])+10**(-10))\n",
    "    alpha=np.mean(rr)\n",
    "    \n",
    "    #initialize F:\n",
    "    S=(S+S.T)/2\n",
    "    D=np.diag(np.sum(S,axis=1))\n",
    "    L=D-S\n",
    "    eigenvalue,eigenvector=la.eig(L)\n",
    "    sorted_indices = np.argsort(eigenvalue)\n",
    "    F=eigenvector[:,sorted_indices[:c]]#F denotes the indicator matrix\n",
    "    \n",
    "    #-------------------------------------------------------\n",
    "    \n",
    "    \n",
    "    #Update:\n",
    "    for iter_num in range(30):\n",
    "        \n",
    "        #update W:\n",
    "        for k in range(v):\n",
    "            tmp=0\n",
    "            for i in range(n):\n",
    "                for j in range(n):\n",
    "                    tmp+=S[i][j]*((la.norm(X[k][i]-X[k][j]))**2)\n",
    "            W[k]=0.5/(tmp**0.5)\n",
    "        \n",
    "        #update S:\n",
    "        S=np.zeros((n,n),dtype=np.float32)\n",
    "        ad=np.zeros((n,k_),dtype=np.float32)\n",
    "        Dist=np.zeros((n,n),dtype=np.float32)\n",
    "        for i in range(n):\n",
    "            for j in range(n):\n",
    "                Dist[i][j]+=lambda_*la.norm(F[i,:]-F[j,:])**2 \n",
    "                for k in range(v):\n",
    "                    Dist[i][j]+=W[k]*(la.norm(X[k][i,:]-X[k][j,:]))**2\n",
    "        for i in range(n):\n",
    "            idxa0=ascending_order_index[i][1:k_+1]\n",
    "            S[i][idxa0]=EProjSimplex_new(-Dist[i][idxa0]/(2*alpha))\n",
    "        \n",
    "        #update F:\n",
    "        S=(S+S.T)/2\n",
    "        D=np.diag(np.sum(S,axis=1))\n",
    "        L=D-S\n",
    "        F_old=F\n",
    "        eigenvalue,eigenvector=la.eig(L)\n",
    "        sorted_indices = np.argsort(eigenvalue)\n",
    "        F=eigenvector[:,sorted_indices[:c]]\n",
    "        \n",
    "        #update lambda_:\n",
    "        thre=10**(-10)\n",
    "        fn1=np.sum(eigenvalue[sorted_indices[:c]])\n",
    "        fn2=np.sum(eigenvalue[sorted_indices[:c+1]])\n",
    "        if fn1>thre:\n",
    "            lambda_=2*lambda_\n",
    "        elif fn2<thre:\n",
    "            lambda_=lambda_/2.0\n",
    "            F=F_old\n",
    "        else:\n",
    "            break\n",
    "            \n",
    "        #Compute the objective value:\n",
    "        result=0\n",
    "        for k in range(v):\n",
    "            a=0\n",
    "            for i in range(n):\n",
    "                for j in range(n):\n",
    "                    a+=S[i][j]*(la.norm(X[k][i]-X[k][j]))**2\n",
    "            result+=a**0.5\n",
    "        result+=alpha*(la.norm(S))**2\n",
    "        print('After iteration %i,'%(iter_num+1),end='')\n",
    "        print(' the objective value is %f.'%result)\n",
    "        \n",
    "    return S"
   ]
  },
  {
   "cell_type": "code",
   "execution_count": 80,
   "metadata": {
    "scrolled": false
   },
   "outputs": [
    {
     "name": "stdout",
     "output_type": "stream",
     "text": [
      "Preprocession finished...\n",
      "After iteration 1, the objective value is 14041.396079.\n",
      "After iteration 2, the objective value is 14041.590312.\n",
      "After iteration 3, the objective value is 14042.450446.\n",
      "After iteration 4, the objective value is 14044.245956.\n",
      "After iteration 5, the objective value is 14048.184360.\n",
      "After iteration 6, the objective value is 14057.583880.\n",
      "After iteration 7, the objective value is 14083.194346.\n",
      "After iteration 8, the objective value is 14149.831604.\n",
      "After iteration 9, the objective value is 14274.235703.\n",
      "After iteration 10, the objective value is 14449.268751.\n",
      "After iteration 11, the objective value is 14620.091563.\n",
      "After iteration 12, the objective value is 14788.941118.\n",
      "After iteration 13, the objective value is 14819.051167.\n",
      "After iteration 14, the objective value is 14854.108972.\n",
      "After iteration 15, the objective value is 14678.606114.\n"
     ]
    }
   ],
   "source": [
    "S=cluster(X,3)"
   ]
  },
  {
   "cell_type": "code",
   "execution_count": 74,
   "metadata": {},
   "outputs": [
    {
     "data": {
      "text/plain": [
       "(8,)"
      ]
     },
     "execution_count": 74,
     "metadata": {},
     "output_type": "execute_result"
    }
   ],
   "source": [
    "X=np.zeros((8))\n",
    "X.shape"
   ]
  },
  {
   "cell_type": "code",
   "execution_count": null,
   "metadata": {},
   "outputs": [],
   "source": [
    "num=0\n",
    "for i in range(52):\n",
    "    for j in range(52):\n",
    "        if S[i][j]==0:\n",
    "            num+=1\n",
    "print(num)"
   ]
  }
 ],
 "metadata": {
  "kernelspec": {
   "display_name": "Python 3",
   "language": "python",
   "name": "python3"
  },
  "language_info": {
   "codemirror_mode": {
    "name": "ipython",
    "version": 3
   },
   "file_extension": ".py",
   "mimetype": "text/x-python",
   "name": "python",
   "nbconvert_exporter": "python",
   "pygments_lexer": "ipython3",
   "version": "3.6.4"
  }
 },
 "nbformat": 4,
 "nbformat_minor": 2
}
